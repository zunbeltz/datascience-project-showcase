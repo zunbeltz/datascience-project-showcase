{
 "cells": [
  {
   "cell_type": "markdown",
   "metadata": {},
   "source": [
    "# Some gun violence analysis with Wikipedia data"
   ]
  },
  {
   "cell_type": "markdown",
   "metadata": {},
   "source": [
    "As [requested by John Stokes](https://twitter.com/jonst0kes/status/282330530412888064),\n",
    "here are per-capita numbers for gun-related homicides,\n",
    "relating to GDP and total homicides,\n",
    "so the situation in the United States can be put in context relative to other nations."
   ]
  },
  {
   "cell_type": "markdown",
   "metadata": {},
   "source": [
    "main data source is UNODC (via Wikipedia [here](http://en.wikipedia.org/wiki/List_of_countries_by_intentional_homicide_rate)\n",
    "and [here](http://en.wikipedia.org/wiki/List_of_countries_by_firearm-related_death_rate)).\n",
    "\n",
    "GDP data from World Bank, again [via Wikipedia](http://en.wikipedia.org/wiki/List_of_countries_by_GDP_%28PPP%29_per_capita).\n",
    "\n",
    "If the numbers on Wikipedia are inaccurate, or their relationship is not sound\n",
    "(e.g. numbers taken from different years, during which significant change occured)\n",
    "then obviously None of this analysis is valid.\n",
    "\n",
    "To summarize the data,\n",
    "every possible way you look at it the US is lousy at preventing gun violence.\n",
    "Even when compared to significantly more violent places,\n",
    "gun violence in the US is a serious problem,\n",
    "and when compared to similarly wealthy places,\n",
    "the US is an outstanding disaster."
   ]
  },
  {
   "cell_type": "markdown",
   "metadata": {},
   "source": [
    "**UPDATE:** the relationship of the gun data and totals does not seem to be valid.\n",
    "[FBI data](http://www2.fbi.gov/ucr/cius2009/offenses/violent_crime/index.html) suggests that\n",
    "the relative contribution of guns to homicides in the US is 47%,\n",
    "but relating these two data sources gives 80%.\n",
    "Internal comparisons should still be fine, but 'fraction' analysis has been stricken."
   ]
  },
  {
   "cell_type": "code",
   "execution_count": 95,
   "metadata": {
    "collapsed": false
   },
   "outputs": [
    {
     "name": "stdout",
     "output_type": "stream",
     "text": [
      "Populating the interactive namespace from numpy and matplotlib\n"
     ]
    },
    {
     "name": "stderr",
     "output_type": "stream",
     "text": [
      "/home/zunbeltz/anaconda3/lib/python3.6/site-packages/IPython/core/magics/pylab.py:160: UserWarning: pylab import has clobbered these variables: ['select']\n",
      "`%matplotlib` prevents importing * from pylab and numpy\n",
      "  \"\\n`%matplotlib` prevents importing * from pylab and numpy\"\n"
     ]
    }
   ],
   "source": [
    "%pylab inline"
   ]
  },
  {
   "cell_type": "code",
   "execution_count": 96,
   "metadata": {
    "collapsed": false
   },
   "outputs": [],
   "source": [
    "from IPython.display import display\n",
    "import pandas\n",
    "pandas.set_option('display.notebook_repr_html', True)\n",
    "pandas.set_option('display.precision', 2)"
   ]
  },
  {
   "cell_type": "markdown",
   "metadata": {},
   "source": [
    "Some utility functions for display"
   ]
  },
  {
   "cell_type": "code",
   "execution_count": 97,
   "metadata": {
    "collapsed": false
   },
   "outputs": [],
   "source": [
    "def plot_percent(df, limit=10):\n",
    "    df['Gun Percent'][:limit].plot()\n",
    "    plt.ylim(0,100)\n",
    "    plt.title(\"% Gun Homicide\")\n",
    "    plt.show()\n"
   ]
  },
  {
   "cell_type": "code",
   "execution_count": 98,
   "metadata": {
    "collapsed": false
   },
   "outputs": [],
   "source": [
    "def plot_percapita(df, limit=10):\n",
    "    df = df.loc[:,['Homicides', 'Gun Homicides']][:limit]\n",
    "    df['Total Homicides'] = df['Homicides'] - df['Gun Homicides']\n",
    "    del df['Homicides']\n",
    "    df.plot(kind='bar', stacked=True, sort_columns=True)\n",
    "    plt.ylabel(\"per 100k\")\n",
    "    plt.show()\n"
   ]
  },
  {
   "cell_type": "code",
   "execution_count": 99,
   "metadata": {
    "collapsed": false
   },
   "outputs": [],
   "source": [
    "def display_relevant(df, limit=10):\n",
    "    display(df.loc[:,['Homicides', 'Gun Homicides', 'Gun Data Source']][:limit])"
   ]
  },
  {
   "cell_type": "markdown",
   "metadata": {},
   "source": [
    "Load the data"
   ]
  },
  {
   "cell_type": "code",
   "execution_count": 100,
   "metadata": {
    "collapsed": false
   },
   "outputs": [],
   "source": [
    "totals = pandas.read_csv('totals.csv', '\\t', index_col=0)\n",
    "guns = pandas.read_csv('guns.csv', '\\t', index_col=0)\n",
    "gdp = pandas.read_csv('gdp.csv', '\\t', index_col=1)\n",
    "data = totals.join(guns).join(gdp)\n",
    "data['Gun Percent'] = 100 * data['Gun Homicides'] / data['Homicides']\n",
    "del data['Unintentional'],data['Undetermined'],data['Gun Suicides']\n",
    "data = data.dropna()"
   ]
  },
  {
   "cell_type": "markdown",
   "metadata": {},
   "source": [
    "Of all sampled countries (Found data for 68 countries),\n",
    "the US is in the top 15 in Gun Homicides per capita.\n",
    "\n",
    "Numbers are per 100k."
   ]
  },
  {
   "cell_type": "code",
   "execution_count": 101,
   "metadata": {
    "collapsed": false
   },
   "outputs": [
    {
     "data": {
      "text/html": [
       "<div>\n",
       "<style scoped>\n",
       "    .dataframe tbody tr th:only-of-type {\n",
       "        vertical-align: middle;\n",
       "    }\n",
       "\n",
       "    .dataframe tbody tr th {\n",
       "        vertical-align: top;\n",
       "    }\n",
       "\n",
       "    .dataframe thead th {\n",
       "        text-align: right;\n",
       "    }\n",
       "</style>\n",
       "<table border=\"1\" class=\"dataframe\">\n",
       "  <thead>\n",
       "    <tr style=\"text-align: right;\">\n",
       "      <th></th>\n",
       "      <th>Homicides</th>\n",
       "      <th>Gun Homicides</th>\n",
       "      <th>Gun Data Source</th>\n",
       "    </tr>\n",
       "    <tr>\n",
       "      <th>Country</th>\n",
       "      <th></th>\n",
       "      <th></th>\n",
       "      <th></th>\n",
       "    </tr>\n",
       "  </thead>\n",
       "  <tbody>\n",
       "    <tr>\n",
       "      <th>El Salvador</th>\n",
       "      <td>69.2</td>\n",
       "      <td>50.36</td>\n",
       "      <td>OAS 2011[1]</td>\n",
       "    </tr>\n",
       "    <tr>\n",
       "      <th>Jamaica</th>\n",
       "      <td>52.2</td>\n",
       "      <td>47.44</td>\n",
       "      <td>OAS 2011[1]</td>\n",
       "    </tr>\n",
       "    <tr>\n",
       "      <th>Honduras</th>\n",
       "      <td>91.6</td>\n",
       "      <td>46.70</td>\n",
       "      <td>OAS 2011[1]</td>\n",
       "    </tr>\n",
       "    <tr>\n",
       "      <th>Guatemala</th>\n",
       "      <td>38.5</td>\n",
       "      <td>38.50</td>\n",
       "      <td>OAS 2011[1]</td>\n",
       "    </tr>\n",
       "    <tr>\n",
       "      <th>Colombia</th>\n",
       "      <td>33.4</td>\n",
       "      <td>27.10</td>\n",
       "      <td>UNODC 2011 [2]</td>\n",
       "    </tr>\n",
       "    <tr>\n",
       "      <th>Brazil</th>\n",
       "      <td>21.0</td>\n",
       "      <td>18.10</td>\n",
       "      <td>UNODC 2011[3]</td>\n",
       "    </tr>\n",
       "    <tr>\n",
       "      <th>Panama</th>\n",
       "      <td>21.6</td>\n",
       "      <td>12.92</td>\n",
       "      <td>OAS 2011[1]</td>\n",
       "    </tr>\n",
       "    <tr>\n",
       "      <th>Mexico</th>\n",
       "      <td>16.9</td>\n",
       "      <td>10.00</td>\n",
       "      <td>UNODC 2011[4]</td>\n",
       "    </tr>\n",
       "    <tr>\n",
       "      <th>Paraguay</th>\n",
       "      <td>11.5</td>\n",
       "      <td>7.35</td>\n",
       "      <td>UNODC 2000[11]</td>\n",
       "    </tr>\n",
       "    <tr>\n",
       "      <th>Nicaragua</th>\n",
       "      <td>13.6</td>\n",
       "      <td>7.14</td>\n",
       "      <td>OAS 2011[1]</td>\n",
       "    </tr>\n",
       "    <tr>\n",
       "      <th>United States</th>\n",
       "      <td>4.2</td>\n",
       "      <td>3.70</td>\n",
       "      <td>OAS 2012[5][6]</td>\n",
       "    </tr>\n",
       "    <tr>\n",
       "      <th>Costa Rica</th>\n",
       "      <td>10.0</td>\n",
       "      <td>3.32</td>\n",
       "      <td>UNODC 2002[7]</td>\n",
       "    </tr>\n",
       "    <tr>\n",
       "      <th>Uruguay</th>\n",
       "      <td>5.9</td>\n",
       "      <td>3.24</td>\n",
       "      <td>UNODC 2002[7]</td>\n",
       "    </tr>\n",
       "    <tr>\n",
       "      <th>Barbados</th>\n",
       "      <td>11.3</td>\n",
       "      <td>3.00</td>\n",
       "      <td>UNODC 2000[11]</td>\n",
       "    </tr>\n",
       "    <tr>\n",
       "      <th>Argentina</th>\n",
       "      <td>3.4</td>\n",
       "      <td>3.00</td>\n",
       "      <td>UNODC 2011[12]</td>\n",
       "    </tr>\n",
       "  </tbody>\n",
       "</table>\n",
       "</div>"
      ],
      "text/plain": [
       "               Homicides  Gun Homicides Gun Data Source\n",
       "Country                                                \n",
       "El Salvador         69.2          50.36     OAS 2011[1]\n",
       "Jamaica             52.2          47.44     OAS 2011[1]\n",
       "Honduras            91.6          46.70     OAS 2011[1]\n",
       "Guatemala           38.5          38.50     OAS 2011[1]\n",
       "Colombia            33.4          27.10  UNODC 2011 [2]\n",
       "Brazil              21.0          18.10   UNODC 2011[3]\n",
       "Panama              21.6          12.92     OAS 2011[1]\n",
       "Mexico              16.9          10.00   UNODC 2011[4]\n",
       "Paraguay            11.5           7.35  UNODC 2000[11]\n",
       "Nicaragua           13.6           7.14     OAS 2011[1]\n",
       "United States        4.2           3.70  OAS 2012[5][6]\n",
       "Costa Rica          10.0           3.32   UNODC 2002[7]\n",
       "Uruguay              5.9           3.24   UNODC 2002[7]\n",
       "Barbados            11.3           3.00  UNODC 2000[11]\n",
       "Argentina            3.4           3.00  UNODC 2011[12]"
      ]
     },
     "metadata": {},
     "output_type": "display_data"
    }
   ],
   "source": [
    "data = data.sort_values(\"Gun Homicides\", ascending=False)\n",
    "display_relevant(data, 15)"
   ]
  },
  {
   "cell_type": "markdown",
   "metadata": {},
   "source": [
    "Take top 30 Countries by GDP"
   ]
  },
  {
   "cell_type": "code",
   "execution_count": 102,
   "metadata": {
    "collapsed": false
   },
   "outputs": [],
   "source": [
    "top = data.sort_values('GDP')[-30:]"
   ]
  },
  {
   "cell_type": "markdown",
   "metadata": {},
   "source": [
    "and rank them by Gun Homicides per capita:"
   ]
  },
  {
   "cell_type": "code",
   "execution_count": 103,
   "metadata": {
    "collapsed": false
   },
   "outputs": [
    {
     "data": {
      "text/html": [
       "<div>\n",
       "<style scoped>\n",
       "    .dataframe tbody tr th:only-of-type {\n",
       "        vertical-align: middle;\n",
       "    }\n",
       "\n",
       "    .dataframe tbody tr th {\n",
       "        vertical-align: top;\n",
       "    }\n",
       "\n",
       "    .dataframe thead th {\n",
       "        text-align: right;\n",
       "    }\n",
       "</style>\n",
       "<table border=\"1\" class=\"dataframe\">\n",
       "  <thead>\n",
       "    <tr style=\"text-align: right;\">\n",
       "      <th></th>\n",
       "      <th>Homicides</th>\n",
       "      <th>Gun Homicides</th>\n",
       "      <th>Gun Data Source</th>\n",
       "    </tr>\n",
       "    <tr>\n",
       "      <th>Country</th>\n",
       "      <th></th>\n",
       "      <th></th>\n",
       "      <th></th>\n",
       "    </tr>\n",
       "  </thead>\n",
       "  <tbody>\n",
       "    <tr>\n",
       "      <th>United States</th>\n",
       "      <td>4.2</td>\n",
       "      <td>3.70</td>\n",
       "      <td>OAS 2012[5][6]</td>\n",
       "    </tr>\n",
       "    <tr>\n",
       "      <th>Israel</th>\n",
       "      <td>2.1</td>\n",
       "      <td>0.94</td>\n",
       "      <td>WHO 2012[10]</td>\n",
       "    </tr>\n",
       "    <tr>\n",
       "      <th>Canada</th>\n",
       "      <td>1.6</td>\n",
       "      <td>0.76</td>\n",
       "      <td>Krug 1998[13]</td>\n",
       "    </tr>\n",
       "    <tr>\n",
       "      <th>Luxembourg</th>\n",
       "      <td>2.5</td>\n",
       "      <td>0.60</td>\n",
       "      <td>WHO 2012[10]</td>\n",
       "    </tr>\n",
       "    <tr>\n",
       "      <th>Greece</th>\n",
       "      <td>1.5</td>\n",
       "      <td>0.59</td>\n",
       "      <td>Krug 1998[13]</td>\n",
       "    </tr>\n",
       "  </tbody>\n",
       "</table>\n",
       "</div>"
      ],
      "text/plain": [
       "               Homicides  Gun Homicides Gun Data Source\n",
       "Country                                                \n",
       "United States        4.2           3.70  OAS 2012[5][6]\n",
       "Israel               2.1           0.94    WHO 2012[10]\n",
       "Canada               1.6           0.76   Krug 1998[13]\n",
       "Luxembourg           2.5           0.60    WHO 2012[10]\n",
       "Greece               1.5           0.59   Krug 1998[13]"
      ]
     },
     "metadata": {},
     "output_type": "display_data"
    },
    {
     "data": {
      "image/png": "[encoded data removed]",
      "text/plain": [
       "<Figure size 432x288 with 1 Axes>"
      ]
     },
     "metadata": {
      "needs_background": "light"
     },
     "output_type": "display_data"
    }
   ],
   "source": [
    "top_by_guns = top.sort_values(\"Gun Homicides\", ascending=False)\n",
    "display_relevant(top_by_guns, 5)\n",
    "plot_percapita(top_by_guns, 10)"
   ]
  },
  {
   "cell_type": "markdown",
   "metadata": {},
   "source": [
    "**NOTE:** these bar graphs should not be interpreted as fractions of a total,\n",
    "as the two data sources do not appear to be comparable.\n",
    "But the red and blue bar graphs should still be internally comparable."
   ]
  },
  {
   "cell_type": "markdown",
   "metadata": {},
   "source": [
    "The US is easily #1 of 30 wealthiest countries in Gun Homicides per capita,\n",
    "by a factor of 4:1"
   ]
  },
  {
   "cell_type": "markdown",
   "metadata": {},
   "source": [
    "Adding USA, Canada, and Mexico to all of Europe,\n",
    "USA is a strong #2 behind Mexico in total gun homicides per-capita"
   ]
  },
  {
   "cell_type": "code",
   "execution_count": 104,
   "metadata": {
    "collapsed": false
   },
   "outputs": [
    {
     "name": "stdout",
     "output_type": "stream",
     "text": [
      "By Total Gun Homicides\n"
     ]
    },
    {
     "data": {
      "image/png": "[encoded data removed]",
      "text/plain": [
       "<Figure size 432x288 with 1 Axes>"
      ]
     },
     "metadata": {
      "needs_background": "light"
     },
     "output_type": "display_data"
    },
    {
     "data": {
      "text/html": [
       "<div>\n",
       "<style scoped>\n",
       "    .dataframe tbody tr th:only-of-type {\n",
       "        vertical-align: middle;\n",
       "    }\n",
       "\n",
       "    .dataframe tbody tr th {\n",
       "        vertical-align: top;\n",
       "    }\n",
       "\n",
       "    .dataframe thead th {\n",
       "        text-align: right;\n",
       "    }\n",
       "</style>\n",
       "<table border=\"1\" class=\"dataframe\">\n",
       "  <thead>\n",
       "    <tr style=\"text-align: right;\">\n",
       "      <th></th>\n",
       "      <th>Homicides</th>\n",
       "      <th>Gun Homicides</th>\n",
       "      <th>Gun Data Source</th>\n",
       "    </tr>\n",
       "    <tr>\n",
       "      <th>Country</th>\n",
       "      <th></th>\n",
       "      <th></th>\n",
       "      <th></th>\n",
       "    </tr>\n",
       "  </thead>\n",
       "  <tbody>\n",
       "    <tr>\n",
       "      <th>Mexico</th>\n",
       "      <td>16.9</td>\n",
       "      <td>10.00</td>\n",
       "      <td>UNODC 2011[4]</td>\n",
       "    </tr>\n",
       "    <tr>\n",
       "      <th>United States</th>\n",
       "      <td>4.2</td>\n",
       "      <td>3.70</td>\n",
       "      <td>OAS 2012[5][6]</td>\n",
       "    </tr>\n",
       "    <tr>\n",
       "      <th>Montenegro</th>\n",
       "      <td>3.5</td>\n",
       "      <td>2.06</td>\n",
       "      <td>WHO 2012[10]</td>\n",
       "    </tr>\n",
       "    <tr>\n",
       "      <th>Moldova</th>\n",
       "      <td>7.5</td>\n",
       "      <td>1.04</td>\n",
       "      <td>WHO 2012[10]</td>\n",
       "    </tr>\n",
       "    <tr>\n",
       "      <th>Canada</th>\n",
       "      <td>1.6</td>\n",
       "      <td>0.76</td>\n",
       "      <td>Krug 1998[13]</td>\n",
       "    </tr>\n",
       "    <tr>\n",
       "      <th>Serbia</th>\n",
       "      <td>1.2</td>\n",
       "      <td>0.62</td>\n",
       "      <td>WHO 2012[10]</td>\n",
       "    </tr>\n",
       "    <tr>\n",
       "      <th>Luxembourg</th>\n",
       "      <td>2.5</td>\n",
       "      <td>0.60</td>\n",
       "      <td>WHO 2012[10]</td>\n",
       "    </tr>\n",
       "    <tr>\n",
       "      <th>Greece</th>\n",
       "      <td>1.5</td>\n",
       "      <td>0.59</td>\n",
       "      <td>Krug 1998[13]</td>\n",
       "    </tr>\n",
       "    <tr>\n",
       "      <th>Croatia</th>\n",
       "      <td>1.4</td>\n",
       "      <td>0.57</td>\n",
       "      <td>WHO 2012[10]</td>\n",
       "    </tr>\n",
       "    <tr>\n",
       "      <th>Switzerland</th>\n",
       "      <td>0.7</td>\n",
       "      <td>0.52</td>\n",
       "      <td>OAS 2011[1]</td>\n",
       "    </tr>\n",
       "    <tr>\n",
       "      <th>Malta</th>\n",
       "      <td>1.0</td>\n",
       "      <td>0.48</td>\n",
       "      <td>WHO 2012[10]</td>\n",
       "    </tr>\n",
       "    <tr>\n",
       "      <th>Portugal</th>\n",
       "      <td>1.2</td>\n",
       "      <td>0.48</td>\n",
       "      <td>WHO 2012[10]</td>\n",
       "    </tr>\n",
       "    <tr>\n",
       "      <th>Belarus</th>\n",
       "      <td>4.9</td>\n",
       "      <td>0.38</td>\n",
       "      <td>UNODC 2002[7]</td>\n",
       "    </tr>\n",
       "    <tr>\n",
       "      <th>Ireland</th>\n",
       "      <td>1.2</td>\n",
       "      <td>0.36</td>\n",
       "      <td>WHO 2012[10]</td>\n",
       "    </tr>\n",
       "    <tr>\n",
       "      <th>Italy</th>\n",
       "      <td>0.9</td>\n",
       "      <td>0.36</td>\n",
       "      <td>WHO 2012[10]</td>\n",
       "    </tr>\n",
       "    <tr>\n",
       "      <th>Ukraine</th>\n",
       "      <td>5.2</td>\n",
       "      <td>0.35</td>\n",
       "      <td>UNODC 2000[11]</td>\n",
       "    </tr>\n",
       "    <tr>\n",
       "      <th>Estonia</th>\n",
       "      <td>5.2</td>\n",
       "      <td>0.30</td>\n",
       "      <td>WHO 2012[10]</td>\n",
       "    </tr>\n",
       "    <tr>\n",
       "      <th>Belgium</th>\n",
       "      <td>1.7</td>\n",
       "      <td>0.29</td>\n",
       "      <td>WHO 2012[10]</td>\n",
       "    </tr>\n",
       "    <tr>\n",
       "      <th>Finland</th>\n",
       "      <td>2.2</td>\n",
       "      <td>0.26</td>\n",
       "      <td>WHO 2012[10]</td>\n",
       "    </tr>\n",
       "    <tr>\n",
       "      <th>Lithuania</th>\n",
       "      <td>6.6</td>\n",
       "      <td>0.24</td>\n",
       "      <td>WHO 2012[10]</td>\n",
       "    </tr>\n",
       "    <tr>\n",
       "      <th>Bulgaria</th>\n",
       "      <td>2.0</td>\n",
       "      <td>0.23</td>\n",
       "      <td>WHO 2012[10]</td>\n",
       "    </tr>\n",
       "    <tr>\n",
       "      <th>Georgia</th>\n",
       "      <td>4.3</td>\n",
       "      <td>0.23</td>\n",
       "      <td>WHO 2012[10]</td>\n",
       "    </tr>\n",
       "    <tr>\n",
       "      <th>France</th>\n",
       "      <td>1.1</td>\n",
       "      <td>0.22</td>\n",
       "      <td>WHO 2012[10]</td>\n",
       "    </tr>\n",
       "    <tr>\n",
       "      <th>Denmark</th>\n",
       "      <td>0.9</td>\n",
       "      <td>0.22</td>\n",
       "      <td>WHO 2012[10]</td>\n",
       "    </tr>\n",
       "    <tr>\n",
       "      <th>Netherlands</th>\n",
       "      <td>1.1</td>\n",
       "      <td>0.20</td>\n",
       "      <td>WHO 2012[10]</td>\n",
       "    </tr>\n",
       "    <tr>\n",
       "      <th>Sweden</th>\n",
       "      <td>1.0</td>\n",
       "      <td>0.19</td>\n",
       "      <td>WHO 2012[10]</td>\n",
       "    </tr>\n",
       "    <tr>\n",
       "      <th>Slovakia</th>\n",
       "      <td>1.5</td>\n",
       "      <td>0.18</td>\n",
       "      <td>WHO 2012[10]</td>\n",
       "    </tr>\n",
       "    <tr>\n",
       "      <th>Austria</th>\n",
       "      <td>0.6</td>\n",
       "      <td>0.18</td>\n",
       "      <td>WHO 2012[10]</td>\n",
       "    </tr>\n",
       "    <tr>\n",
       "      <th>Latvia</th>\n",
       "      <td>3.1</td>\n",
       "      <td>0.18</td>\n",
       "      <td>WHO 2012[10]</td>\n",
       "    </tr>\n",
       "    <tr>\n",
       "      <th>Spain</th>\n",
       "      <td>0.8</td>\n",
       "      <td>0.15</td>\n",
       "      <td>WHO 2012[10]</td>\n",
       "    </tr>\n",
       "    <tr>\n",
       "      <th>Hungary</th>\n",
       "      <td>1.3</td>\n",
       "      <td>0.13</td>\n",
       "      <td>WHO 2012[10]</td>\n",
       "    </tr>\n",
       "    <tr>\n",
       "      <th>Czech Republic</th>\n",
       "      <td>1.7</td>\n",
       "      <td>0.12</td>\n",
       "      <td>WHO 2012[10]</td>\n",
       "    </tr>\n",
       "    <tr>\n",
       "      <th>Germany</th>\n",
       "      <td>0.8</td>\n",
       "      <td>0.06</td>\n",
       "      <td>WHO 2012[10]</td>\n",
       "    </tr>\n",
       "    <tr>\n",
       "      <th>Slovenia</th>\n",
       "      <td>0.7</td>\n",
       "      <td>0.05</td>\n",
       "      <td>WHO 2012[10]</td>\n",
       "    </tr>\n",
       "    <tr>\n",
       "      <th>Norway</th>\n",
       "      <td>0.6</td>\n",
       "      <td>0.04</td>\n",
       "      <td>WHO 2012[10]</td>\n",
       "    </tr>\n",
       "    <tr>\n",
       "      <th>United Kingdom</th>\n",
       "      <td>1.2</td>\n",
       "      <td>0.04</td>\n",
       "      <td>WHO2012 [10]</td>\n",
       "    </tr>\n",
       "    <tr>\n",
       "      <th>Romania</th>\n",
       "      <td>2.0</td>\n",
       "      <td>0.04</td>\n",
       "      <td>WHO 2012[10]</td>\n",
       "    </tr>\n",
       "    <tr>\n",
       "      <th>Poland</th>\n",
       "      <td>1.1</td>\n",
       "      <td>0.02</td>\n",
       "      <td>WHO 2012[10]</td>\n",
       "    </tr>\n",
       "  </tbody>\n",
       "</table>\n",
       "</div>"
      ],
      "text/plain": [
       "                Homicides  Gun Homicides Gun Data Source\n",
       "Country                                                 \n",
       "Mexico               16.9          10.00   UNODC 2011[4]\n",
       "United States         4.2           3.70  OAS 2012[5][6]\n",
       "Montenegro            3.5           2.06    WHO 2012[10]\n",
       "Moldova               7.5           1.04    WHO 2012[10]\n",
       "Canada                1.6           0.76   Krug 1998[13]\n",
       "Serbia                1.2           0.62    WHO 2012[10]\n",
       "Luxembourg            2.5           0.60    WHO 2012[10]\n",
       "Greece                1.5           0.59   Krug 1998[13]\n",
       "Croatia               1.4           0.57    WHO 2012[10]\n",
       "Switzerland           0.7           0.52     OAS 2011[1]\n",
       "Malta                 1.0           0.48    WHO 2012[10]\n",
       "Portugal              1.2           0.48    WHO 2012[10]\n",
       "Belarus               4.9           0.38   UNODC 2002[7]\n",
       "Ireland               1.2           0.36    WHO 2012[10]\n",
       "Italy                 0.9           0.36    WHO 2012[10]\n",
       "Ukraine               5.2           0.35  UNODC 2000[11]\n",
       "Estonia               5.2           0.30    WHO 2012[10]\n",
       "Belgium               1.7           0.29    WHO 2012[10]\n",
       "Finland               2.2           0.26    WHO 2012[10]\n",
       "Lithuania             6.6           0.24    WHO 2012[10]\n",
       "Bulgaria              2.0           0.23    WHO 2012[10]\n",
       "Georgia               4.3           0.23    WHO 2012[10]\n",
       "France                1.1           0.22    WHO 2012[10]\n",
       "Denmark               0.9           0.22    WHO 2012[10]\n",
       "Netherlands           1.1           0.20    WHO 2012[10]\n",
       "Sweden                1.0           0.19    WHO 2012[10]\n",
       "Slovakia              1.5           0.18    WHO 2012[10]\n",
       "Austria               0.6           0.18    WHO 2012[10]\n",
       "Latvia                3.1           0.18    WHO 2012[10]\n",
       "Spain                 0.8           0.15    WHO 2012[10]\n",
       "Hungary               1.3           0.13    WHO 2012[10]\n",
       "Czech Republic        1.7           0.12    WHO 2012[10]\n",
       "Germany               0.8           0.06    WHO 2012[10]\n",
       "Slovenia              0.7           0.05    WHO 2012[10]\n",
       "Norway                0.6           0.04    WHO 2012[10]\n",
       "United Kingdom        1.2           0.04    WHO2012 [10]\n",
       "Romania               2.0           0.04    WHO 2012[10]\n",
       "Poland                1.1           0.02    WHO 2012[10]"
      ]
     },
     "metadata": {},
     "output_type": "display_data"
    }
   ],
   "source": [
    "index = (data['Region'] == 'Europe') | \\\n",
    "        (data.index == 'United States') | \\\n",
    "        (data.index == 'Canada') | \\\n",
    "        (data.index == 'Mexico')\n",
    "selected = data[index]\n",
    "\n",
    "print(\"By Total Gun Homicides\")\n",
    "sys.stdout.flush()\n",
    "\n",
    "by_guns = selected.sort_values(\"Gun Homicides\", ascending=False)\n",
    "#by_guns['Gun Homicides'].plot(kind='bar')\n",
    "plot_percapita(by_guns, limit=25)\n",
    "display_relevant(selected, limit=None)\n"
   ]
  },
  {
   "cell_type": "markdown",
   "metadata": {},
   "source": [
    "Let's just compare US, Canada, and UK:"
   ]
  },
  {
   "cell_type": "code",
   "execution_count": 105,
   "metadata": {
    "collapsed": false
   },
   "outputs": [
    {
     "data": {
      "image/png": "[encoded data removed]",
      "text/plain": [
       "<Figure size 432x288 with 1 Axes>"
      ]
     },
     "metadata": {
      "needs_background": "light"
     },
     "output_type": "display_data"
    }
   ],
   "source": [
    "select = data.loc[['United States', 'Canada', 'United Kingdom']]\n",
    "plot_percapita(select)"
   ]
  },
  {
   "cell_type": "markdown",
   "metadata": {},
   "source": [
    "Normalize to the US numbers (inverse)"
   ]
  },
  {
   "cell_type": "code",
   "execution_count": 106,
   "metadata": {
    "collapsed": false
   },
   "outputs": [
    {
     "data": {
      "text/html": [
       "<div>\n",
       "<style scoped>\n",
       "    .dataframe tbody tr th:only-of-type {\n",
       "        vertical-align: middle;\n",
       "    }\n",
       "\n",
       "    .dataframe tbody tr th {\n",
       "        vertical-align: top;\n",
       "    }\n",
       "\n",
       "    .dataframe thead th {\n",
       "        text-align: right;\n",
       "    }\n",
       "</style>\n",
       "<table border=\"1\" class=\"dataframe\">\n",
       "  <thead>\n",
       "    <tr style=\"text-align: right;\">\n",
       "      <th></th>\n",
       "      <th>Homicides</th>\n",
       "      <th>Gun Homicides</th>\n",
       "      <th>Gun Data Source</th>\n",
       "    </tr>\n",
       "    <tr>\n",
       "      <th>Country</th>\n",
       "      <th></th>\n",
       "      <th></th>\n",
       "      <th></th>\n",
       "    </tr>\n",
       "  </thead>\n",
       "  <tbody>\n",
       "    <tr>\n",
       "      <th>United States</th>\n",
       "      <td>1.00</td>\n",
       "      <td>1.00</td>\n",
       "      <td>OAS 2012[5][6]</td>\n",
       "    </tr>\n",
       "    <tr>\n",
       "      <th>Canada</th>\n",
       "      <td>2.62</td>\n",
       "      <td>4.87</td>\n",
       "      <td>Krug 1998[13]</td>\n",
       "    </tr>\n",
       "    <tr>\n",
       "      <th>United Kingdom</th>\n",
       "      <td>3.50</td>\n",
       "      <td>92.50</td>\n",
       "      <td>WHO2012 [10]</td>\n",
       "    </tr>\n",
       "  </tbody>\n",
       "</table>\n",
       "</div>"
      ],
      "text/plain": [
       "                Homicides  Gun Homicides Gun Data Source\n",
       "Country                                                 \n",
       "United States        1.00           1.00  OAS 2012[5][6]\n",
       "Canada               2.62           4.87   Krug 1998[13]\n",
       "United Kingdom       3.50          92.50    WHO2012 [10]"
      ]
     },
     "metadata": {},
     "output_type": "display_data"
    }
   ],
   "source": [
    "select['Homicides'] = select['Homicides']['United States'] / select['Homicides']\n",
    "select['Gun Homicides'] = select['Gun Homicides']['United States'] / select['Gun Homicides']\n",
    "display_relevant(select)"
   ]
  },
  {
   "cell_type": "markdown",
   "metadata": {},
   "source": [
    "So, you are 2.6 times more likely to be killed in the US than Canada,\n",
    "and 3.5 times more likely than in the UK.\n",
    "That's bad, but not extreme.\n",
    "\n",
    "However, you are 4.9 times more likely to be killed *with a gun* in the US than Canada,\n",
    "and almost 100 times more likely than in the UK.  That is pretty extreme.\n"
   ]
  },
  {
   "cell_type": "markdown",
   "metadata": {},
   "source": [
    "Countries represented:"
   ]
  },
  {
   "cell_type": "code",
   "execution_count": 107,
   "metadata": {
    "collapsed": false
   },
   "outputs": [
    {
     "name": "stdout",
     "output_type": "stream",
     "text": [
      "El Salvador\n",
      "Jamaica\n",
      "Honduras\n",
      "Guatemala\n",
      "Colombia\n",
      "Brazil\n",
      "Panama\n",
      "Mexico\n",
      "Paraguay\n",
      "Nicaragua\n",
      "United States\n",
      "Costa Rica\n",
      "Uruguay\n",
      "Barbados\n",
      "Argentina\n",
      "Montenegro\n",
      "Peru\n",
      "Moldova\n",
      "Israel\n",
      "India\n",
      "Canada\n",
      "Serbia\n",
      "Luxembourg\n",
      "Greece\n",
      "Uzbekistan\n",
      "Croatia\n",
      "Kyrgyzstan\n",
      "Switzerland\n",
      "Malta\n",
      "Portugal\n",
      "Belarus\n",
      "Ireland\n",
      "Kuwait\n",
      "Italy\n",
      "Ukraine\n",
      "Estonia\n",
      "Belgium\n",
      "Finland\n",
      "Cyprus\n",
      "Lithuania\n",
      "Bulgaria\n",
      "Georgia\n",
      "France\n",
      "Denmark\n",
      "Netherlands\n",
      "Sweden\n",
      "Qatar\n",
      "Slovakia\n",
      "Austria\n",
      "Latvia\n",
      "New Zealand\n",
      "Spain\n",
      "Hungary\n",
      "Hong Kong\n",
      "Czech Republic\n",
      "Australia\n",
      "Singapore\n",
      "Chile\n",
      "Germany\n",
      "Slovenia\n",
      "Norway\n",
      "Azerbaijan\n",
      "United Kingdom\n",
      "South Korea\n",
      "Romania\n",
      "Japan\n",
      "Poland\n",
      "Mauritius\n"
     ]
    }
   ],
   "source": [
    "for country in data.index:\n",
    "    print(country)"
   ]
  }
 ],
 "metadata": {
  "kernelspec": {
   "display_name": "Python 3",
   "language": "python",
   "name": "python3"
  },
  "language_info": {
   "codemirror_mode": {
    "name": "ipython",
    "version": 3
   },
   "file_extension": ".py",
   "mimetype": "text/x-python",
   "name": "python",
   "nbconvert_exporter": "python",
   "pygments_lexer": "ipython3",
   "version": "3.6.8"
  }
 },
 "nbformat": 4,
 "nbformat_minor": 2
}
